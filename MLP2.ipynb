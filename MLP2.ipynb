{
 "cells": [
  {
   "cell_type": "markdown",
   "id": "bfde22f3-367d-44b9-9c6f-18abed488d5d",
   "metadata": {
    "tags": []
   },
   "source": [
    "# MLP with autograd for logistic regression"
   ]
  },
  {
   "cell_type": "code",
   "execution_count": 105,
   "id": "36c50035-f99d-46a6-a0b3-aa309d6107ec",
   "metadata": {},
   "outputs": [],
   "source": [
    "from math import *\n",
    "w1=torch.randn([100,784], requires_grad=True, dtype=torch.float64)\n",
    "w2=torch.randn([10,100], requires_grad=True, dtype=torch.float64)\n",
    "b1=torch.zeros([100,1], requires_grad=True, dtype=torch.float64)\n",
    "b2=torch.zeros([10,1], requires_grad=True,dtype=torch.float64)\n",
    "with torch.no_grad():\n",
    "    w1.mul(2/sqrt(100+784))\n",
    "    w1.mul(2/sqrt(100+10))"
   ]
  },
  {
   "cell_type": "markdown",
   "id": "2e1efdf6-7461-45e7-8b1d-2ccc3da56503",
   "metadata": {},
   "source": [
    "- There was something about 'proper probabilities' in 'Learning form data'\n",
    "- Rewrite the 1-layer and 2-layer network using the improvements form the experiments\n",
    "- Reformulate as the final example in 'grundlagenfach' involving calculus, probabilities and vectors.\n",
    "- What about HE initialization."
   ]
  },
  {
   "cell_type": "markdown",
   "id": "60b782a2-ed53-44f6-a3f5-d80c911437dc",
   "metadata": {
    "tags": []
   },
   "source": [
    "## Torch"
   ]
  },
  {
   "cell_type": "code",
   "execution_count": 23,
   "id": "6de1e318-9d52-4cb1-a34e-321e467eb2f0",
   "metadata": {},
   "outputs": [
    {
     "name": "stdout",
     "output_type": "stream",
     "text": [
      "Requirement already satisfied: torch in /Users/hal/anaconda3/envs/d2l-lena/lib/python3.8/site-packages (1.12.1)\n",
      "Requirement already satisfied: typing-extensions in /Users/hal/anaconda3/envs/d2l-lena/lib/python3.8/site-packages (from torch) (4.4.0)\n"
     ]
    }
   ],
   "source": [
    "!pip3 install torch"
   ]
  },
  {
   "cell_type": "code",
   "execution_count": 24,
   "id": "1d195451-6483-4fa1-a4e6-aacad0719a38",
   "metadata": {},
   "outputs": [
    {
     "name": "stdout",
     "output_type": "stream",
     "text": [
      "Requirement already satisfied: torchvision in /Users/hal/anaconda3/envs/d2l-lena/lib/python3.8/site-packages (0.13.1)\n"
     ]
    }
   ],
   "source": [
    "!pip3 install torchvision --no-deps"
   ]
  },
  {
   "cell_type": "code",
   "execution_count": 3,
   "id": "5f8b2a75-3f87-472b-ba1b-b65e00613715",
   "metadata": {},
   "outputs": [],
   "source": [
    "import torch\n",
    "import torchvision\n",
    "import matplotlib.pyplot as plt"
   ]
  },
  {
   "cell_type": "markdown",
   "id": "f62d1524-b750-4eee-a52d-8677b2cf45dc",
   "metadata": {
    "tags": []
   },
   "source": [
    "## Gradients"
   ]
  },
  {
   "cell_type": "code",
   "execution_count": 191,
   "id": "e86dca35-b88e-4fe8-a1f6-6a93186b0ba7",
   "metadata": {},
   "outputs": [
    {
     "data": {
      "text/plain": [
       "(tensor([3.], dtype=torch.float64, requires_grad=True),\n",
       " tensor([-4.], dtype=torch.float64, requires_grad=True))"
      ]
     },
     "execution_count": 191,
     "metadata": {},
     "output_type": "execute_result"
    }
   ],
   "source": [
    "x=torch.tensor([3.0],requires_grad=True,dtype=torch.float64)\n",
    "y=torch.tensor([-4.0],requires_grad=True,dtype=torch.float64)\n",
    "x,y"
   ]
  },
  {
   "cell_type": "code",
   "execution_count": 160,
   "id": "e93f7835-9d6c-4d36-a6ba-0381542d28f0",
   "metadata": {},
   "outputs": [],
   "source": [
    "z=x**2+y**3\n",
    "z.backward()"
   ]
  },
  {
   "cell_type": "code",
   "execution_count": 161,
   "id": "b964e3b0-f87a-4f51-b16c-c1b749ff5ac4",
   "metadata": {},
   "outputs": [
    {
     "name": "stdout",
     "output_type": "stream",
     "text": [
      "tensor([6.], dtype=torch.float64)\n",
      "tensor([48.], dtype=torch.float64)\n"
     ]
    }
   ],
   "source": [
    "print(x.grad)\n",
    "print(y.grad)"
   ]
  },
  {
   "cell_type": "code",
   "execution_count": 166,
   "id": "a636e4d4-d748-46ca-bfa6-edae0c18fb73",
   "metadata": {},
   "outputs": [],
   "source": [
    "def func(y):\n",
    "    if y >= 0: \n",
    "        return y\n",
    "    else: \n",
    "        return 0"
   ]
  },
  {
   "cell_type": "code",
   "execution_count": 174,
   "id": "3a23ee20-cf1a-457a-8056-3c0f7e42357d",
   "metadata": {},
   "outputs": [],
   "source": [
    "u=func(y)"
   ]
  },
  {
   "cell_type": "code",
   "execution_count": 194,
   "id": "27456c21-291b-4126-b706-cb3ccd4143f2",
   "metadata": {},
   "outputs": [
    {
     "ename": "AttributeError",
     "evalue": "'int' object has no attribute 'backward'",
     "output_type": "error",
     "traceback": [
      "\u001b[0;31m---------------------------------------------------------------------------\u001b[0m",
      "\u001b[0;31mAttributeError\u001b[0m                            Traceback (most recent call last)",
      "Cell \u001b[0;32mIn [194], line 1\u001b[0m\n\u001b[0;32m----> 1\u001b[0m \u001b[43mu\u001b[49m\u001b[38;5;241;43m.\u001b[39;49m\u001b[43mbackward\u001b[49m()\n",
      "\u001b[0;31mAttributeError\u001b[0m: 'int' object has no attribute 'backward'"
     ]
    }
   ],
   "source": [
    "u.backward()"
   ]
  },
  {
   "cell_type": "code",
   "execution_count": 192,
   "id": "725e0959-fe4e-4f12-8981-898f63288a6a",
   "metadata": {},
   "outputs": [],
   "source": [
    "relu = torch.nn.ReLU()"
   ]
  },
  {
   "cell_type": "code",
   "execution_count": 195,
   "id": "cb788086-8ddb-4222-a4a3-376562ca97f7",
   "metadata": {},
   "outputs": [],
   "source": [
    "v=relu(y)"
   ]
  },
  {
   "cell_type": "code",
   "execution_count": 198,
   "id": "7abf786a-ef09-4c70-b078-039406f2848a",
   "metadata": {},
   "outputs": [],
   "source": [
    "v.backward()"
   ]
  },
  {
   "cell_type": "code",
   "execution_count": 199,
   "id": "64a7d16a-eb21-4390-8608-a556e2172613",
   "metadata": {},
   "outputs": [
    {
     "data": {
      "text/plain": [
       "tensor([0.], dtype=torch.float64)"
      ]
     },
     "execution_count": 199,
     "metadata": {},
     "output_type": "execute_result"
    }
   ],
   "source": [
    "y.grad"
   ]
  },
  {
   "cell_type": "code",
   "execution_count": 348,
   "id": "6f22bf11-1880-4412-aea4-03184c5a0f4c",
   "metadata": {},
   "outputs": [],
   "source": [
    "import numpy as np\n",
    "xc = np.linspace(-5, 5,50)\n",
    "yc = np.linspace(-5, 5,50)\n",
    "\n",
    "XC, YC = np.meshgrid(xc, yc)\n",
    "\n",
    "def f(x,y):\n",
    "    return 2*x**2+4*y**2\n",
    "\n",
    "Z=f(*np.meshgrid(xc,yc))\n",
    "\n",
    "x, y = np.meshgrid(np.linspace(-5, 5, 10), \n",
    "                   np.linspace(-5, 5, 10))\n",
    "u=4*x\n",
    "v=8*y\n"
   ]
  },
  {
   "cell_type": "code",
   "execution_count": 368,
   "id": "2dfa4640-e25c-4676-8a0a-1430cf9dac70",
   "metadata": {},
   "outputs": [
    {
     "data": {
      "text/plain": [
       "<matplotlib.quiver.Quiver at 0x7fa76fa655e0>"
      ]
     },
     "execution_count": 368,
     "metadata": {},
     "output_type": "execute_result"
    },
    {
     "data": {
      "image/png": "[encoded data removed]",
      "text/plain": [
       "<Figure size 640x480 with 1 Axes>"
      ]
     },
     "metadata": {},
     "output_type": "display_data"
    }
   ],
   "source": [
    "plt.contour(XC, YC, Z,20,colors='black')\n",
    "plt.quiver(x, y, u, v, color='g')\n"
   ]
  },
  {
   "cell_type": "markdown",
   "id": "5b689e7f-11ee-429d-b6dd-841f3def2b2b",
   "metadata": {
    "tags": []
   },
   "source": [
    "## Data "
   ]
  },
  {
   "cell_type": "code",
   "execution_count": null,
   "id": "7ac0ea12-916c-4fc1-b656-bbc10c725c07",
   "metadata": {},
   "outputs": [
    {
     "name": "stdout",
     "output_type": "stream",
     "text": [
      "Dataset MNIST\n",
      "    Number of datapoints: 60000\n",
      "    Root location: ./data\n",
      "    Split: Train\n",
      "Dataset MNIST\n",
      "    Number of datapoints: 10000\n",
      "    Root location: data\n",
      "    Split: Test\n"
     ]
    }
   ],
   "source": [
    "train_data = torchvision.datasets.MNIST('./data',download=True)\n",
    "test_data = torchvision.datasets.MNIST('data',train=False)\n",
    "print(train_data)\n",
    "print(test_data)"
   ]
  },
  {
   "cell_type": "code",
   "execution_count": 23,
   "id": "8f908bd5-a81c-4d88-8011-dcb6c26a22f6",
   "metadata": {},
   "outputs": [
    {
     "data": {
      "text/plain": [
       "(<PIL.Image.Image image mode=L size=28x28>, 5)"
      ]
     },
     "execution_count": 23,
     "metadata": {},
     "output_type": "execute_result"
    }
   ],
   "source": [
    "image, label = train_data[0]\n",
    "image,label"
   ]
  },
  {
   "cell_type": "code",
   "execution_count": 24,
   "id": "04c4f2e2-fb93-40a1-8583-6929ffbfac90",
   "metadata": {},
   "outputs": [
    {
     "data": {
      "image/png": "[encoded data removed]",
      "text/plain": [
       "<PIL.Image.Image image mode=L size=28x28>"
      ]
     },
     "execution_count": 24,
     "metadata": {},
     "output_type": "execute_result"
    }
   ],
   "source": [
    "image"
   ]
  },
  {
   "cell_type": "markdown",
   "id": "b14e52fa-df0c-4f98-9cdc-23ce049aa2a3",
   "metadata": {
    "jp-MarkdownHeadingCollapsed": true,
    "tags": []
   },
   "source": [
    "## Images to tensors"
   ]
  },
  {
   "cell_type": "code",
   "execution_count": 28,
   "id": "992dc87a-6457-47fc-a745-abbbc5de6cde",
   "metadata": {},
   "outputs": [],
   "source": [
    "import torchvision.transforms as T"
   ]
  },
  {
   "cell_type": "code",
   "execution_count": 29,
   "id": "b77bb793-8de8-4758-9104-039c33caa158",
   "metadata": {},
   "outputs": [],
   "source": [
    "train_data = torchvision.datasets.MNIST('data',train=True,transform=T.ToTensor())\n",
    "test_data = torchvision.datasets.MNIST('data',train=False,transform=T.ToTensor()) "
   ]
  },
  {
   "cell_type": "code",
   "execution_count": 36,
   "id": "6b0e08e8-4fe7-441a-85c2-16fbbe38130c",
   "metadata": {},
   "outputs": [
    {
     "data": {
      "text/plain": [
       "torch.Size([1, 28, 28])"
      ]
     },
     "execution_count": 36,
     "metadata": {},
     "output_type": "execute_result"
    }
   ],
   "source": [
    "train_data[0][0].shape"
   ]
  },
  {
   "cell_type": "markdown",
   "id": "69fd7808-e2d7-4067-a745-922a2dffcf80",
   "metadata": {},
   "source": [
    "The Image is contained in an additional (unnecessary) list"
   ]
  },
  {
   "cell_type": "code",
   "execution_count": 328,
   "id": "928b6c3e-c2b9-4400-aee4-16e4d6f429e2",
   "metadata": {},
   "outputs": [
    {
     "data": {
      "text/plain": [
       "torch.Size([784])"
      ]
     },
     "execution_count": 328,
     "metadata": {},
     "output_type": "execute_result"
    }
   ],
   "source": [
    "train_data[0][0][0].flatten().shape"
   ]
  },
  {
   "cell_type": "markdown",
   "id": "839a2820-c826-462e-bd3a-a31fd65f757c",
   "metadata": {},
   "source": [
    "Thats a row vector."
   ]
  },
  {
   "cell_type": "code",
   "execution_count": 207,
   "id": "a3c079e8-6bf0-4865-af76-7ccb306d2f5a",
   "metadata": {},
   "outputs": [],
   "source": [
    "x_train=torch.zeros([60000, 784], dtype=torch.float64)\n",
    "y_train=torch.zeros([60000, 1], dtype=torch.float64)\n",
    "\n",
    "for i in range(60000):\n",
    "    x_train[i]=train_data[i][0][0].flatten()\n",
    "    y_train[i]=train_data[i][1]\n",
    "\n",
    "x_test=torch.zeros([10000, 784], dtype=torch.float64)\n",
    "y_test=torch.zeros([10000, 1], dtype=torch.float64)\n",
    "\n",
    "for i in range(10000):\n",
    "    x_test[i]=test_data[i][0][0].flatten()\n",
    "    y_test[i]=test_data[i][1]"
   ]
  },
  {
   "cell_type": "code",
   "execution_count": 98,
   "id": "4b0dab75-57e3-48bc-a083-da8bfcdbccd7",
   "metadata": {},
   "outputs": [
    {
     "data": {
      "text/plain": [
       "torch.Size([784])"
      ]
     },
     "execution_count": 98,
     "metadata": {},
     "output_type": "execute_result"
    }
   ],
   "source": [
    "x_train[0].shape"
   ]
  },
  {
   "cell_type": "markdown",
   "id": "7569c047-71f3-45df-a3a3-0699f6614d89",
   "metadata": {
    "jp-MarkdownHeadingCollapsed": true,
    "tags": []
   },
   "source": [
    "## 1 layer"
   ]
  },
  {
   "cell_type": "code",
   "execution_count": 99,
   "id": "057db61e-05df-4129-acc6-3287708d6a83",
   "metadata": {},
   "outputs": [],
   "source": [
    "w=torch.randn([10,784], requires_grad=True, dtype=torch.float64)\n",
    "b=torch.randn([10,1], requires_grad=True, dtype=torch.float64)"
   ]
  },
  {
   "cell_type": "code",
   "execution_count": 100,
   "id": "b9b35824-298d-4ae8-8e99-2f4508b24616",
   "metadata": {},
   "outputs": [
    {
     "data": {
      "text/plain": [
       "tensor([[-0.7586],\n",
       "        [ 0.2586],\n",
       "        [-0.6915],\n",
       "        [-0.3619],\n",
       "        [-0.9173],\n",
       "        [ 0.4195],\n",
       "        [ 0.1175],\n",
       "        [-1.4577],\n",
       "        [ 0.3610],\n",
       "        [-0.2595]], dtype=torch.float64, requires_grad=True)"
      ]
     },
     "execution_count": 100,
     "metadata": {},
     "output_type": "execute_result"
    }
   ],
   "source": [
    "b"
   ]
  },
  {
   "cell_type": "code",
   "execution_count": 102,
   "id": "87cde463-8bf2-4455-aa9b-6cc3790716a4",
   "metadata": {},
   "outputs": [],
   "source": [
    "def soft(y):\n",
    "    return torch.exp(y)/torch.sum(torch.exp(y))\n",
    "def forward1(w,b,x):\n",
    "    return soft(torch.matmul(w,x.reshape([784,1]))+b)\n",
    "    "
   ]
  },
  {
   "cell_type": "code",
   "execution_count": 101,
   "id": "8d2dd234-3e48-46c0-a239-64cbbf4f83ef",
   "metadata": {},
   "outputs": [
    {
     "name": "stdout",
     "output_type": "stream",
     "text": [
      "tensor(0.9995, dtype=torch.float64)\n",
      "tensor(0.9450, dtype=torch.float64)\n",
      "tensor(0.9979, dtype=torch.float64)\n",
      "tensor(0.5529, dtype=torch.float64)\n",
      "tensor(1.0000, dtype=torch.float64)\n",
      "tensor(0.8070, dtype=torch.float64)\n",
      "tensor(0.3911, dtype=torch.float64)\n",
      "tensor(0.8332, dtype=torch.float64)\n",
      "tensor(0.2122, dtype=torch.float64)\n",
      "tensor(0.9588, dtype=torch.float64)\n",
      "tensor(0.9337, dtype=torch.float64)\n",
      "tensor(0.9502, dtype=torch.float64)\n",
      "tensor(0.5180, dtype=torch.float64)\n",
      "tensor(0.8882, dtype=torch.float64)\n",
      "tensor(0.0065, dtype=torch.float64)\n",
      "tensor(0.9381, dtype=torch.float64)\n",
      "tensor(1.0000, dtype=torch.float64)\n",
      "tensor(0.6143, dtype=torch.float64)\n",
      "tensor(0.4562, dtype=torch.float64)\n",
      "tensor(0.9099, dtype=torch.float64)\n"
     ]
    }
   ],
   "source": [
    "lrate=0.001\n",
    "\n",
    "for i in range(len(x_train[0:20])):\n",
    "    loss=-torch.log(forward1(w,b,x_train[i])[int(y_train[i])])\n",
    "    loss.backward()\n",
    "    print(w.grad.max())\n",
    "    with torch.no_grad():\n",
    "        w-=lrate*w.grad\n",
    "        b-=lrate*b.grad\n",
    "        w.grad=None\n",
    "        b.grad=None"
   ]
  },
  {
   "cell_type": "code",
   "execution_count": 103,
   "id": "45b4279c-58e5-494a-afa1-411d7a0fd12b",
   "metadata": {},
   "outputs": [],
   "source": [
    "lrate=0.001\n",
    "\n",
    "for i in range(len(x_train)):\n",
    "    loss=-torch.log(forward1(w,b,x_train[i])[int(y_train[i])])\n",
    "    loss.backward()\n",
    "    with torch.no_grad():\n",
    "        w-=lrate*w.grad\n",
    "        b-=lrate*b.grad\n",
    "        w.grad=None\n",
    "        b.grad=None"
   ]
  },
  {
   "cell_type": "markdown",
   "id": "4241ba24-ff37-4ae2-b59e-d44e1ec7737c",
   "metadata": {},
   "source": [
    "### In sample accuracy"
   ]
  },
  {
   "cell_type": "code",
   "execution_count": 104,
   "id": "21701dbb-5587-481c-ba78-4952c4a236df",
   "metadata": {},
   "outputs": [
    {
     "data": {
      "text/plain": [
       "0.7588166666666667"
      ]
     },
     "execution_count": 104,
     "metadata": {},
     "output_type": "execute_result"
    }
   ],
   "source": [
    "c=0\n",
    "for i in range(len(x_train)):\n",
    "    if int(torch.argmax(forward1(w,b,x_train[i]))) ==  int(y_train[i]):\n",
    "        c+=1\n",
    "c/len(x_train)        \n",
    "    "
   ]
  },
  {
   "cell_type": "markdown",
   "id": "f146d478-e377-401f-9839-7f8f73b8ed37",
   "metadata": {},
   "source": [
    "### Out of sample accuracy"
   ]
  },
  {
   "cell_type": "code",
   "execution_count": 84,
   "id": "163ddd5d-b828-4656-b690-f3ce05db2c42",
   "metadata": {},
   "outputs": [
    {
     "data": {
      "text/plain": [
       "0.765"
      ]
     },
     "execution_count": 84,
     "metadata": {},
     "output_type": "execute_result"
    }
   ],
   "source": [
    "c=0\n",
    "for i in range(len(x_test)):\n",
    "    if int(torch.argmax(forward1(w,b,x_test[i]))) ==  int(y_test[i]):\n",
    "        c+=1\n",
    "c/len(x_test)        \n",
    "    "
   ]
  },
  {
   "cell_type": "markdown",
   "id": "ddcb5202-0d67-48b9-a633-5afdc80135d2",
   "metadata": {
    "jp-MarkdownHeadingCollapsed": true,
    "tags": []
   },
   "source": [
    "## 2 layers"
   ]
  },
  {
   "cell_type": "code",
   "execution_count": 254,
   "id": "aa505d38-9e45-418f-877f-5716c10af98a",
   "metadata": {},
   "outputs": [],
   "source": [
    "from math import *\n",
    "w1=torch.randn([100,784], requires_grad=True, dtype=torch.float64)\n",
    "w2=torch.randn([10,100], requires_grad=True, dtype=torch.float64)\n",
    "b1=torch.zeros([100,1], requires_grad=True, dtype=torch.float64)\n",
    "b2=torch.zeros([10,1], requires_grad=True,dtype=torch.float64)\n",
    "with torch.no_grad():\n",
    "    w1.mul(2/sqrt(100+784))\n",
    "    w1.mul(2/sqrt(100+10))"
   ]
  },
  {
   "cell_type": "code",
   "execution_count": 255,
   "id": "b6b6ebac-f07e-4223-a97f-98131b2164a2",
   "metadata": {},
   "outputs": [],
   "source": [
    "def soft(y):\n",
    "    return torch.exp(y)/torch.sum(torch.exp(y))\n",
    "\n",
    "relu = torch.nn.ReLU()\n",
    "def forward2(w1,b1,w2,b2,x):\n",
    "    return soft(torch.matmul(w2,relu(torch.matmul(w1,x.reshape([784,1]))+b1))+b2)\n",
    "    "
   ]
  },
  {
   "cell_type": "code",
   "execution_count": 256,
   "id": "0c9dbf4d-d4f3-4d5a-b2bb-76419cc6144a",
   "metadata": {},
   "outputs": [],
   "source": [
    "lrate=0.001\n",
    "\n",
    "for i in range(len(x_train)):\n",
    "    loss=-torch.log(forward2(w1,b1,w2,b2,x_train[i])[int(y_train[i])])\n",
    "    if not torch.isnan(loss):\n",
    "        loss.backward()\n",
    "        with torch.no_grad():\n",
    "            w1-=lrate*w1.grad\n",
    "            b1-=lrate*b1.grad\n",
    "            w2-=lrate*w2.grad\n",
    "            b2-=lrate*b2.grad\n",
    "            w1.grad=None\n",
    "            b1.grad=None\n",
    "            w2.grad=None\n",
    "            b2.grad=None\n",
    "    else: raise Exception(\"NaN\")"
   ]
  },
  {
   "cell_type": "markdown",
   "id": "8127f658-671d-4f39-a44f-749b5897268e",
   "metadata": {},
   "source": [
    "### In sample accuracy"
   ]
  },
  {
   "cell_type": "code",
   "execution_count": 257,
   "id": "ac3a704d-3ba4-432c-8052-0e1c3cddef11",
   "metadata": {},
   "outputs": [
    {
     "data": {
      "text/plain": [
       "0.8631833333333333"
      ]
     },
     "execution_count": 257,
     "metadata": {},
     "output_type": "execute_result"
    }
   ],
   "source": [
    "c=0\n",
    "for i in range(len(x_train)):\n",
    "    if int(torch.argmax(forward2(w1,b1,w2,b2,x_train[i]))) ==  int(y_train[i]):\n",
    "        c+=1\n",
    "c/len(x_train)        \n",
    "    "
   ]
  },
  {
   "cell_type": "markdown",
   "id": "ded50798-1fb1-4f30-8afd-e8fc3c95463c",
   "metadata": {},
   "source": [
    "### Out of sample accuracy"
   ]
  },
  {
   "cell_type": "code",
   "execution_count": 110,
   "id": "1468a85e-3267-4af4-a064-44f7e2320e80",
   "metadata": {},
   "outputs": [
    {
     "data": {
      "text/plain": [
       "0.8751"
      ]
     },
     "execution_count": 110,
     "metadata": {},
     "output_type": "execute_result"
    }
   ],
   "source": [
    "c=0\n",
    "for i in range(len(x_test)):\n",
    "    if int(torch.argmax(forward2(w1,b1,w2,b2,x_test[i]))) ==  int(y_test[i]):\n",
    "        c+=1\n",
    "c/len(x_test)        \n",
    "    "
   ]
  },
  {
   "cell_type": "markdown",
   "id": "b0a1eba6-c3a9-400b-94eb-378dc9f1bf1f",
   "metadata": {
    "jp-MarkdownHeadingCollapsed": true,
    "tags": []
   },
   "source": [
    "## Only digits  0-5"
   ]
  },
  {
   "cell_type": "code",
   "execution_count": 258,
   "id": "aaf69926-6375-45ad-83aa-1dd9d3d4da4e",
   "metadata": {},
   "outputs": [],
   "source": [
    "\n",
    "lrate=0.001\n",
    "\n",
    "for i in range(len(x_train)):\n",
    "    if int(y_train[i])<=5:\n",
    "        loss=cross_entropy_loss(forward2(w1,b1,w2,b2,x_train[i]),int(y_train[i]))\n",
    "        if not torch.isnan(loss):\n",
    "            loss.backward()\n",
    "            with torch.no_grad():\n",
    "                w1-=lrate*w1.grad\n",
    "                b1-=lrate*b1.grad\n",
    "                w2-=lrate*w2.grad\n",
    "                b2-=lrate*b2.grad\n",
    "                w1.grad=None\n",
    "                b1.grad=None\n",
    "                w2.grad=None\n",
    "                b2.grad=None\n",
    "        else: raise Exception(\"NaN\")"
   ]
  },
  {
   "cell_type": "markdown",
   "id": "1336c7b5-42a6-48ae-86fb-ea0cc1a4ae65",
   "metadata": {},
   "source": [
    "### Out of sample accuracy"
   ]
  },
  {
   "cell_type": "code",
   "execution_count": 259,
   "id": "0362051d-d7b2-4dab-97b5-1109c0eac10f",
   "metadata": {},
   "outputs": [
    {
     "data": {
      "text/plain": [
       "0.9331785773503565"
      ]
     },
     "execution_count": 259,
     "metadata": {},
     "output_type": "execute_result"
    }
   ],
   "source": [
    "c=0\n",
    "s=0\n",
    "for i in range(len(x_test)):\n",
    "    if int(y_test[i])<=5:\n",
    "        s+=1\n",
    "        if int(torch.argmax(forward2(w1,b1,w2,b2,x_test[i]))) ==  int(y_test[i]):\n",
    "            c+=1\n",
    "c/s        \n",
    "    "
   ]
  },
  {
   "cell_type": "markdown",
   "id": "ef4463e9-778d-42c2-b9fd-d3f76b5e6e1b",
   "metadata": {},
   "source": [
    "### Failures"
   ]
  },
  {
   "cell_type": "code",
   "execution_count": 133,
   "id": "d9d2623a-0c68-4252-872a-b29fc86e849b",
   "metadata": {},
   "outputs": [],
   "source": [
    "failures = []\n",
    "for i in range(len(x_test)):\n",
    "    if int(y_test[i])<=5:\n",
    "        if int(torch.argmax(forward2(w1,b1,w2,b2,x_test[i]))) !=  int(y_test[i]):\n",
    "            failures.append(i)"
   ]
  },
  {
   "cell_type": "code",
   "execution_count": 134,
   "id": "0444359e-1363-4c54-aeaf-1c384643f5c0",
   "metadata": {},
   "outputs": [
    {
     "data": {
      "text/plain": [
       "498"
      ]
     },
     "execution_count": 134,
     "metadata": {},
     "output_type": "execute_result"
    }
   ],
   "source": [
    "len(failures)"
   ]
  },
  {
   "cell_type": "code",
   "execution_count": null,
   "id": "2203a679-cf67-4406-8d4c-482c190eb279",
   "metadata": {},
   "outputs": [],
   "source": []
  },
  {
   "cell_type": "code",
   "execution_count": 144,
   "id": "a986d16d-48c8-45c6-baf5-e56443b64555",
   "metadata": {},
   "outputs": [],
   "source": [
    "train_data_org = torchvision.datasets.MNIST('./data',download=True)\n",
    "test_data_org = torchvision.datasets.MNIST('data',train=False)\n"
   ]
  },
  {
   "cell_type": "code",
   "execution_count": 147,
   "id": "1037f66a-ceb3-448e-adcc-7c1c54d3664d",
   "metadata": {},
   "outputs": [
    {
     "data": {
      "text/plain": [
       "(<PIL.Image.Image image mode=L size=28x28>, 7)"
      ]
     },
     "execution_count": 147,
     "metadata": {},
     "output_type": "execute_result"
    }
   ],
   "source": [
    "test_data_org[0]"
   ]
  },
  {
   "cell_type": "code",
   "execution_count": 158,
   "id": "3a1c7fef-71ab-4d91-bce6-97bd72780c12",
   "metadata": {},
   "outputs": [
    {
     "name": "stdout",
     "output_type": "stream",
     "text": [
      "5\n"
     ]
    },
    {
     "data": {
      "image/png": "[encoded data removed]",
      "text/plain": [
       "<Figure size 640x480 with 1 Axes>"
      ]
     },
     "metadata": {},
     "output_type": "display_data"
    }
   ],
   "source": [
    "i=7\n",
    "plt.imshow(test_data_org[failures[i]][0])\n",
    "print(test_data_org[failures[i]][1])"
   ]
  },
  {
   "cell_type": "markdown",
   "id": "4f1d7bfd-8f98-454b-9372-1f38166a6e70",
   "metadata": {
    "jp-MarkdownHeadingCollapsed": true,
    "tags": []
   },
   "source": [
    "## Batching"
   ]
  },
  {
   "cell_type": "code",
   "execution_count": 260,
   "id": "5cf98025-972a-434f-8f77-0b9a9f5ce6aa",
   "metadata": {},
   "outputs": [],
   "source": [
    "lrate=0.001\n",
    "\n",
    "for i in range(len(x_train)):\n",
    "    loss=-torch.log(forward2(w1,b1,w2,b2,x_train[i])[int(y_train[i])])\n",
    "    if not torch.isnan(loss):\n",
    "        loss.backward()\n",
    "        with torch.no_grad():\n",
    "            if i % 32 == 0:  # Batching?\n",
    "                w1-=lrate*w1.grad\n",
    "                b1-=lrate*b1.grad\n",
    "                w2-=lrate*w2.grad\n",
    "                b2-=lrate*b2.grad\n",
    "                w1.grad=None\n",
    "                b1.grad=None\n",
    "                w2.grad=None\n",
    "                b2.grad=None\n",
    "    else: raise Exception(\"NaN\")"
   ]
  },
  {
   "cell_type": "code",
   "execution_count": null,
   "id": "764a301a-3bac-4787-91f3-56b0f13de6b7",
   "metadata": {},
   "outputs": [
    {
     "data": {
      "text/plain": [
       "0.8973636212900017"
      ]
     },
     "execution_count": 262,
     "metadata": {},
     "output_type": "execute_result"
    }
   ],
   "source": [
    "c=0\n",
    "s=0\n",
    "for i in range(len(x_test)):\n",
    "    if int(y_test[i])<=5:\n",
    "        s+=1\n",
    "        if int(torch.argmax(forward2(w1,b1,w2,b2,x_test[i]))) ==  int(y_test[i]):\n",
    "            c+=1\n",
    "c/s        \n",
    "    "
   ]
  },
  {
   "cell_type": "markdown",
   "id": "03aa0f35-a935-4872-909a-d8dd79e2c11c",
   "metadata": {
    "jp-MarkdownHeadingCollapsed": true,
    "tags": []
   },
   "source": [
    "## Cross entropy loss"
   ]
  },
  {
   "cell_type": "code",
   "execution_count": 282,
   "id": "9d8efe0b-1e7e-4ac0-94e2-2d2c1e4b7447",
   "metadata": {},
   "outputs": [],
   "source": [
    "def forward2(w1,b1,w2,b2,x):\n",
    "    return torch.matmul(w2,relu(torch.matmul(w1,x.reshape([784,1]))+b1))+b2\n",
    "    \n",
    "def cross_entropy_loss(output, ind):\n",
    "    logsoft = output-torch.log(torch.sum(torch.exp(output)))\n",
    "    return -logsoft[ind]"
   ]
  },
  {
   "cell_type": "code",
   "execution_count": 264,
   "id": "9f605b23-54d6-4513-9685-5b2ecc78fd13",
   "metadata": {},
   "outputs": [],
   "source": [
    "lrate=0.001\n",
    "\n",
    "for i in range(len(x_train)):\n",
    "    loss=cross_entropy_loss(forward2(w1,b1,w2,b2,x_train[i]),int(y_train[i]))\n",
    "    if not torch.isnan(loss):\n",
    "        loss.backward()\n",
    "        with torch.no_grad():\n",
    "            w1-=lrate*w1.grad\n",
    "            b1-=lrate*b1.grad\n",
    "            w2-=lrate*w2.grad\n",
    "            b2-=lrate*b2.grad\n",
    "            w1.grad=None\n",
    "            b1.grad=None\n",
    "            w2.grad=None\n",
    "            b2.grad=None\n",
    "    else: raise Exception(\"NaN\")"
   ]
  },
  {
   "cell_type": "code",
   "execution_count": 265,
   "id": "861cc9b3-5481-4826-8922-e1d2879fec03",
   "metadata": {},
   "outputs": [
    {
     "data": {
      "text/plain": [
       "0.9010114408887415"
      ]
     },
     "execution_count": 265,
     "metadata": {},
     "output_type": "execute_result"
    }
   ],
   "source": [
    "c=0\n",
    "s=0\n",
    "for i in range(len(x_test)):\n",
    "    if int(y_test[i])<=5:\n",
    "        s+=1\n",
    "        if int(torch.argmax(forward2(w1,b1,w2,b2,x_test[i]))) ==  int(y_test[i]):\n",
    "            c+=1\n",
    "c/s        \n",
    "    "
   ]
  },
  {
   "cell_type": "markdown",
   "id": "6911c508-f0f2-4223-a458-fe41334031f0",
   "metadata": {
    "jp-MarkdownHeadingCollapsed": true,
    "tags": []
   },
   "source": [
    "## Learning rate"
   ]
  },
  {
   "cell_type": "code",
   "execution_count": 284,
   "id": "5a782a6f-9bc9-4012-8a8b-5f51268bb726",
   "metadata": {},
   "outputs": [],
   "source": [
    "lrate=0.0001\n",
    "\n",
    "for i in range(len(x_train)):\n",
    "    loss=cross_entropy_loss(forward2(w1,b1,w2,b2,x_train[i]),int(y_train[i]))\n",
    "    if not torch.isnan(loss):\n",
    "        loss.backward()\n",
    "        with torch.no_grad():\n",
    "            w1-=lrate*w1.grad\n",
    "            b1-=lrate*b1.grad\n",
    "            w2-=lrate*w2.grad\n",
    "            b2-=lrate*b2.grad\n",
    "            w1.grad=None\n",
    "            b1.grad=None\n",
    "            w2.grad=None\n",
    "            b2.grad=None\n",
    "    else: raise Exception(\"NaN\")"
   ]
  },
  {
   "cell_type": "code",
   "execution_count": 267,
   "id": "2701236c-b15b-4e62-8d96-0ba48728bf7c",
   "metadata": {},
   "outputs": [
    {
     "data": {
      "text/plain": [
       "0.9088045100315039"
      ]
     },
     "execution_count": 267,
     "metadata": {},
     "output_type": "execute_result"
    }
   ],
   "source": [
    "c=0\n",
    "s=0\n",
    "for i in range(len(x_test)):\n",
    "    if int(y_test[i])<=5:\n",
    "        s+=1\n",
    "        if int(torch.argmax(forward2(w1,b1,w2,b2,x_test[i]))) ==  int(y_test[i]):\n",
    "            c+=1\n",
    "c/s        \n",
    "    "
   ]
  },
  {
   "cell_type": "markdown",
   "id": "5f643eac-e1b7-45f9-8f09-05cebe8421ad",
   "metadata": {
    "jp-MarkdownHeadingCollapsed": true,
    "tags": []
   },
   "source": [
    "## Stochastic gradient descent"
   ]
  },
  {
   "cell_type": "code",
   "execution_count": 268,
   "id": "61404fe0-8ae8-4c44-a63c-cae9319fa938",
   "metadata": {},
   "outputs": [],
   "source": [
    "import random as rd"
   ]
  },
  {
   "cell_type": "code",
   "execution_count": 272,
   "id": "9e28fdc1-01ff-4345-8ff9-8ad2b6033784",
   "metadata": {},
   "outputs": [],
   "source": [
    "order = list(range(len(x_test)))"
   ]
  },
  {
   "cell_type": "code",
   "execution_count": 273,
   "id": "28929e6e-0847-4eb1-a527-ce91f4841769",
   "metadata": {},
   "outputs": [],
   "source": [
    "rd.shuffle(order)"
   ]
  },
  {
   "cell_type": "code",
   "execution_count": 319,
   "id": "d5c88bc8-bf07-4ff5-9c9e-3d46b09bc637",
   "metadata": {},
   "outputs": [],
   "source": [
    "from math import *\n",
    "w1=torch.randn([100,784], requires_grad=True, dtype=torch.float64)\n",
    "w2=torch.randn([10,100], requires_grad=True, dtype=torch.float64)\n",
    "b1=torch.zeros([100,1], requires_grad=True, dtype=torch.float64)\n",
    "b2=torch.zeros([10,1], requires_grad=True,dtype=torch.float64)\n",
    "with torch.no_grad():\n",
    "    w1.mul(2/sqrt(100+784))\n",
    "    w1.mul(2/sqrt(100+10))"
   ]
  },
  {
   "cell_type": "code",
   "execution_count": 320,
   "id": "f1f43ed1-9e36-4bcb-9beb-ddbc24ae09ab",
   "metadata": {},
   "outputs": [],
   "source": [
    "lrate=0.001\n",
    "for j in range(50):\n",
    "    rd.shuffle(order)\n",
    "    for i in order:\n",
    "        if int(y_train[i])<=5:\n",
    "            loss=cross_entropy_loss(forward2(w1,b1,w2,b2,x_train[i]),int(y_train[i]))\n",
    "            if not torch.isnan(loss):\n",
    "                loss.backward()\n",
    "                if i % 32 == 0: \n",
    "                    with torch.no_grad():\n",
    "                        w1-=lrate*w1.grad\n",
    "                        b1-=lrate*b1.grad\n",
    "                        w2-=lrate*w2.grad\n",
    "                        b2-=lrate*b2.grad\n",
    "                        w1.grad=None\n",
    "                        b1.grad=None\n",
    "                        w2.grad=None\n",
    "                        b2.grad=None\n",
    "            else: raise Exception(\"NaN\")"
   ]
  },
  {
   "cell_type": "code",
   "execution_count": 323,
   "id": "f69e7e72-31bc-473f-8a98-81b890ae1d80",
   "metadata": {},
   "outputs": [
    {
     "data": {
      "text/plain": [
       "0.9352527972901685"
      ]
     },
     "execution_count": 323,
     "metadata": {},
     "output_type": "execute_result"
    }
   ],
   "source": [
    "c=0\n",
    "s=0\n",
    "for i in range(len(x_train)):\n",
    "    if int(y_train[i])<=5:\n",
    "        s+=1\n",
    "        if int(torch.argmax(forward2(w1,b1,w2,b2,x_train[i]))) ==  int(y_train[i]):\n",
    "            c+=1\n",
    "c/s        \n",
    "    "
   ]
  },
  {
   "cell_type": "code",
   "execution_count": 321,
   "id": "c40a55f4-da11-480b-9484-5f8174ed757c",
   "metadata": {},
   "outputs": [
    {
     "data": {
      "text/plain": [
       "0.9305256176421821"
      ]
     },
     "execution_count": 321,
     "metadata": {},
     "output_type": "execute_result"
    }
   ],
   "source": [
    "c=0\n",
    "s=0\n",
    "for i in range(len(x_test)):\n",
    "    if int(y_test[i])<=5:\n",
    "        s+=1\n",
    "        if int(torch.argmax(forward2(w1,b1,w2,b2,x_test[i]))) ==  int(y_test[i]):\n",
    "            c+=1\n",
    "c/s        \n",
    "    "
   ]
  }
 ],
 "metadata": {
  "kernelspec": {
   "display_name": "Python 3 (ipykernel)",
   "language": "python",
   "name": "python3"
  },
  "language_info": {
   "codemirror_mode": {
    "name": "ipython",
    "version": 3
   },
   "file_extension": ".py",
   "mimetype": "text/x-python",
   "name": "python",
   "nbconvert_exporter": "python",
   "pygments_lexer": "ipython3",
   "version": "3.8.13"
  }
 },
 "nbformat": 4,
 "nbformat_minor": 5
}
